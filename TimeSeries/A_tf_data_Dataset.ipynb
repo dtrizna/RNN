{
 "cells": [
  {
   "cell_type": "code",
   "execution_count": 3,
   "metadata": {},
   "outputs": [],
   "source": [
    "import tensorflow as tf"
   ]
  },
  {
   "cell_type": "code",
   "execution_count": 14,
   "metadata": {},
   "outputs": [
    {
     "output_type": "stream",
     "name": "stdout",
     "text": "0 1 2 3 4 \n1 2 3 4 5 \n2 3 4 5 6 \n3 4 5 6 7 \n4 5 6 7 8 \n5 6 7 8 9 \n"
    }
   ],
   "source": [
    "# generating example dataset as range from 0 to 10 with shift\n",
    "dataset = tf.data.Dataset.range(10)\n",
    "# split dataset values into windows with specified size and drop other values\n",
    "# as well as create new windows by shifting dataset by 1 until reach the end \n",
    "dataset = dataset.window(5, shift=1, drop_remainder=True)\n",
    "for window in dataset:\n",
    "    for val in window:\n",
    "        print(val.numpy(), end=\" \")\n",
    "    print()"
   ]
  },
  {
   "cell_type": "markdown",
   "metadata": {},
   "source": [
    "## .map() vs .flat_map()"
   ]
  },
  {
   "cell_type": "code",
   "execution_count": 29,
   "metadata": {},
   "outputs": [
    {
     "output_type": "stream",
     "name": "stdout",
     "text": "tf.Tensor([0 1 2 3 4], shape=(5,), dtype=int64)\ntf.Tensor([1 2 3 4 5], shape=(5,), dtype=int64)\ntf.Tensor([2 3 4 5 6], shape=(5,), dtype=int64)\ntf.Tensor([3 4 5 6 7], shape=(5,), dtype=int64)\ntf.Tensor([4 5 6 7 8], shape=(5,), dtype=int64)\ntf.Tensor([5 6 7 8 9], shape=(5,), dtype=int64)\n"
    }
   ],
   "source": [
    "# flat_map vs map difference - it flattens the result\n",
    "dataset_flat = dataset.flat_map(lambda window: window.batch(5))\n",
    "for i in dataset_flat:\n",
    "    print(i)"
   ]
  },
  {
   "cell_type": "code",
   "execution_count": 21,
   "metadata": {},
   "outputs": [
    {
     "output_type": "stream",
     "name": "stdout",
     "text": "<_VariantDataset shapes: (None,), types: tf.int64>\ntf.Tensor([0 1 2 3 4], shape=(5,), dtype=int64)\n\n<_VariantDataset shapes: (None,), types: tf.int64>\ntf.Tensor([1 2 3 4 5], shape=(5,), dtype=int64)\n\n<_VariantDataset shapes: (None,), types: tf.int64>\ntf.Tensor([2 3 4 5 6], shape=(5,), dtype=int64)\n\n<_VariantDataset shapes: (None,), types: tf.int64>\ntf.Tensor([3 4 5 6 7], shape=(5,), dtype=int64)\n\n<_VariantDataset shapes: (None,), types: tf.int64>\ntf.Tensor([4 5 6 7 8], shape=(5,), dtype=int64)\n\n<_VariantDataset shapes: (None,), types: tf.int64>\ntf.Tensor([5 6 7 8 9], shape=(5,), dtype=int64)\n\n"
    }
   ],
   "source": [
    "# flat_map vs map difference - it flattens the result\n",
    "dataset_nonflat = dataset.map(lambda window: window.batch(5))\n",
    "for i in dataset_nonflat:\n",
    "    print(i)\n",
    "    for val in i:\n",
    "        print(val)\n",
    "    print()"
   ]
  },
  {
   "cell_type": "markdown",
   "metadata": {},
   "source": [
    "## create x and y"
   ]
  },
  {
   "cell_type": "code",
   "execution_count": 35,
   "metadata": {},
   "outputs": [
    {
     "output_type": "stream",
     "name": "stdout",
     "text": "[0 1 2 3] [4]\n[1 2 3 4] [5]\n[2 3 4 5] [6]\n[3 4 5 6] [7]\n[4 5 6 7] [8]\n[5 6 7 8] [9]\n"
    }
   ],
   "source": [
    "# create x and y\n",
    "dataset_flat = dataset.flat_map(lambda window: window.batch(5))\n",
    "dataset_flat = dataset_flat.map(lambda window: (window[:-1], window[-1:]))\n",
    "for x,y in dataset_flat:\n",
    "    print(x.numpy(),y.numpy())"
   ]
  },
  {
   "cell_type": "markdown",
   "metadata": {},
   "source": [
    "## .shuffle()"
   ]
  },
  {
   "cell_type": "code",
   "execution_count": 37,
   "metadata": {},
   "outputs": [
    {
     "output_type": "stream",
     "name": "stdout",
     "text": "[2 3 4 5] [6]\n[1 2 3 4] [5]\n[4 5 6 7] [8]\n[0 1 2 3] [4]\n[3 4 5 6] [7]\n[5 6 7 8] [9]\n"
    }
   ],
   "source": [
    "\n",
    "for x,y in dataset_flat.shuffle(buffer_size=10):\n",
    "    print(x.numpy(),y.numpy())"
   ]
  },
  {
   "cell_type": "markdown",
   "metadata": {},
   "source": [
    "## .batch()"
   ]
  },
  {
   "cell_type": "code",
   "execution_count": 56,
   "metadata": {},
   "outputs": [
    {
     "output_type": "stream",
     "name": "stdout",
     "text": "x =  [[2 3 4 5]\n [5 6 7 8]]\ny =  [[6]\n [9]]\n\nx =  [[0 1 2 3]\n [3 4 5 6]]\ny =  [[4]\n [7]]\n\nx =  [[1 2 3 4]\n [4 5 6 7]]\ny =  [[5]\n [8]]\n\n"
    }
   ],
   "source": [
    "for x,y in dataset_flat.shuffle(10).batch(2):\n",
    "    print(\"x = \", x.numpy())\n",
    "    print(\"y = \", y.numpy())\n",
    "    print()"
   ]
  },
  {
   "cell_type": "code",
   "execution_count": null,
   "metadata": {},
   "outputs": [],
   "source": []
  }
 ],
 "metadata": {
  "language_info": {
   "codemirror_mode": {
    "name": "ipython",
    "version": 3
   },
   "file_extension": ".py",
   "mimetype": "text/x-python",
   "name": "python",
   "nbconvert_exporter": "python",
   "pygments_lexer": "ipython3",
   "version": "3.7.5-final"
  },
  "orig_nbformat": 2,
  "kernelspec": {
   "name": "python37564bita866c8c9cf084ebd97979ec2adc3c734",
   "display_name": "Python 3.7.5 64-bit"
  }
 },
 "nbformat": 4,
 "nbformat_minor": 2
}