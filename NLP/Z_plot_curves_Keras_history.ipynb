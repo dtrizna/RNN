{
 "cells": [
  {
   "cell_type": "markdown",
   "metadata": {},
   "source": [
    "# Plot Curve from model's history file\n",
    "\n",
    "'string' argument depend on values given to `.compile()` and are something like:\n",
    "```\n",
    ">>> h.history.keys()\n",
    "dict_keys(['loss', 'accuracy', 'val_loss', 'val_accuracy'])\n",
    "```"
   ]
  },
  {
   "cell_type": "code",
   "execution_count": null,
   "metadata": {},
   "outputs": [],
   "source": [
    "import matplotlib.pyplot as plt\n",
    "\n",
    "def plot_curves(history, string):\n",
    "     plt.plot(history.history[string])\n",
    "     plt.plot(history.history['val_' + string])\n",
    "     plt.xlabel(\"Epochs\")\n",
    "     plt.ylabel(string)\n",
    "     plt.legend([string, 'val_' + string])\n",
    "     plt.show()"
   ]
  }
 ],
 "metadata": {
  "language_info": {
   "codemirror_mode": {
    "name": "ipython",
    "version": 3
   },
   "file_extension": ".py",
   "mimetype": "text/x-python",
   "name": "python",
   "nbconvert_exporter": "python",
   "pygments_lexer": "ipython3",
   "version": 3
  },
  "orig_nbformat": 2
 },
 "nbformat": 4,
 "nbformat_minor": 2
}