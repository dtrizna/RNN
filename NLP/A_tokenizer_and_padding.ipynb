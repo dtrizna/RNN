{
 "cells": [
  {
   "cell_type": "markdown",
   "metadata": {},
   "source": [
    "# Tokenizer()"
   ]
  },
  {
   "cell_type": "code",
   "execution_count": 2,
   "metadata": {},
   "outputs": [
    {
     "output_type": "stream",
     "name": "stdout",
     "text": "{'testing': 1, 'stuff': 2, 'this': 3, 'of': 4, 'is': 5, 'good': 6}\n"
    }
   ],
   "source": [
    "from tensorflow.keras.preprocessing.text import Tokenizer\n",
    "\n",
    "sentences = [\n",
    "    'testing this stuff',\n",
    "    'stuff of testing is good'\n",
    "]\n",
    "\n",
    "t = Tokenizer(num_words = 100)\n",
    "t.fit_on_texts(sentences)\n",
    "word_indexes = t.word_index\n",
    "print(word_indexes)"
   ]
  },
  {
   "cell_type": "code",
   "execution_count": 3,
   "metadata": {},
   "outputs": [
    {
     "output_type": "stream",
     "name": "stdout",
     "text": "[[1, 3, 2], [2, 4, 1, 5, 6]]\n"
    }
   ],
   "source": [
    "seq = t.texts_to_sequences(sentences)\n",
    "print(seq)"
   ]
  },
  {
   "cell_type": "code",
   "execution_count": 12,
   "metadata": {},
   "outputs": [
    {
     "output_type": "stream",
     "name": "stdout",
     "text": "[[1, 2, 3, 2, 5]]\n"
    }
   ],
   "source": [
    "# Tokenizer() ignores unseen words by default\n",
    "seq2 = t.texts_to_sequences(['testing stuff and this time some stuff is lost'])\n",
    "print(seq2)"
   ]
  },
  {
   "cell_type": "code",
   "execution_count": 13,
   "metadata": {},
   "outputs": [
    {
     "output_type": "stream",
     "name": "stdout",
     "text": "{'<OOV>': 1, 'testing': 2, 'stuff': 3, 'this': 4, 'of': 5, 'is': 6, 'good': 7}\n[[2, 3, 1, 4, 1, 1, 3, 6, 1]]\n"
    }
   ],
   "source": [
    "# To specify default value for missing words, use: oov_token=\"value\"\n",
    "t2 = Tokenizer(num_words=100, oov_token=\"<OOV>\")\n",
    "t2.fit_on_texts(sentences)\n",
    "print(t2.word_index)\n",
    "print(t2.texts_to_sequences(['testing stuff and this time some stuff is lost']))"
   ]
  },
  {
   "cell_type": "markdown",
   "metadata": {},
   "source": [
    "# Padding"
   ]
  },
  {
   "cell_type": "code",
   "execution_count": 17,
   "metadata": {},
   "outputs": [
    {
     "output_type": "stream",
     "name": "stdout",
     "text": "[[0 0 2 4 3]\n [3 5 2 6 7]]\ntesting this stuff \n stuff of testing is good\n"
    }
   ],
   "source": [
    "from tensorflow.keras.preprocessing.sequence import pad_sequences\n",
    "\n",
    "seq = t2.texts_to_sequences(sentences)\n",
    "padded = pad_sequences(seq)\n",
    "print(padded)\n",
    "print(sentences[0], '\\n', sentences[1])"
   ]
  },
  {
   "cell_type": "code",
   "execution_count": 20,
   "metadata": {},
   "outputs": [
    {
     "output_type": "stream",
     "name": "stdout",
     "text": "[[2 4 3 0 0 0 0 0 0 0 0 0 0 0 0 0]\n [3 5 2 6 7 0 0 0 0 0 0 0 0 0 0 0]]\n"
    }
   ],
   "source": [
    "# to pad at the end use padding='post'\n",
    "# set up 'maxlen' to cut longer sequences\n",
    "# set up 'truncating' to specify where to cut\n",
    "padded = pad_sequences(seq, padding='post', truncating='post', maxlen=16)\n",
    "print(padded)"
   ]
  },
  {
   "cell_type": "code",
   "execution_count": null,
   "metadata": {},
   "outputs": [],
   "source": []
  }
 ],
 "metadata": {
  "language_info": {
   "codemirror_mode": {
    "name": "ipython",
    "version": 3
   },
   "file_extension": ".py",
   "mimetype": "text/x-python",
   "name": "python",
   "nbconvert_exporter": "python",
   "pygments_lexer": "ipython3",
   "version": "3.7.5-final"
  },
  "orig_nbformat": 2,
  "kernelspec": {
   "name": "python37564bita866c8c9cf084ebd97979ec2adc3c734",
   "display_name": "Python 3.7.5 64-bit"
  }
 },
 "nbformat": 4,
 "nbformat_minor": 2
}